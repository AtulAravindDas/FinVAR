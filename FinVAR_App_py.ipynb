{
  "nbformat": 4,
  "nbformat_minor": 0,
  "metadata": {
    "colab": {
      "provenance": [],
      "include_colab_link": true
    },
    "kernelspec": {
      "name": "python3",
      "display_name": "Python 3"
    },
    "language_info": {
      "name": "python"
    }
  },
  "cells": [
    {
      "cell_type": "markdown",
      "metadata": {
        "id": "view-in-github",
        "colab_type": "text"
      },
      "source": [
        "<a href=\"https://colab.research.google.com/github/AtulAravindDas/FinVAR/blob/FinVAR-Atul/FinVAR_App_py.ipynb\" target=\"_parent\"><img src=\"https://colab.research.google.com/assets/colab-badge.svg\" alt=\"Open In Colab\"/></a>"
      ]
    },
    {
      "cell_type": "code",
      "source": [
        "import streamlit as st\n",
        "import yfinance as yf\n",
        "\n",
        "st.title(\"FinVAR-Your financial assistant referee – reviewing every ticker, flagging every risk.\")\n",
        "\n",
        "user_input=st.text_input(\"Enter the ticker name:\")\n",
        "\n",
        "if user_input:\n",
        "    ticker = yf.Ticker(user_input)\n",
        "    st.subheader(\"Income Statement\")\n",
        "    st.dataframe(ticker.financials)\n",
        "\n",
        "    st.subheader(\"Balance Sheet\")\n",
        "    st.dataframe(ticker.balance_sheet)\n",
        "\n",
        "    st.subheader(\"Cash Flow\")\n",
        "    st.dataframe(ticker.cashflow)"
      ],
      "metadata": {
        "colab": {
          "base_uri": "https://localhost:8080/"
        },
        "id": "FWpIA43CtSL_",
        "outputId": "36591593-39dd-4b1f-9334-186268d6ecee"
      },
      "execution_count": null,
      "outputs": [
        {
          "output_type": "stream",
          "name": "stderr",
          "text": [
            "2025-04-17 17:09:45.030 WARNING streamlit.runtime.scriptrunner_utils.script_run_context: Thread 'MainThread': missing ScriptRunContext! This warning can be ignored when running in bare mode.\n",
            "2025-04-17 17:09:45.197 \n",
            "  \u001b[33m\u001b[1mWarning:\u001b[0m to view this Streamlit app on a browser, run it with the following\n",
            "  command:\n",
            "\n",
            "    streamlit run /usr/local/lib/python3.11/dist-packages/colab_kernel_launcher.py [ARGUMENTS]\n",
            "2025-04-17 17:09:45.199 Thread 'MainThread': missing ScriptRunContext! This warning can be ignored when running in bare mode.\n"
          ]
        },
        {
          "output_type": "execute_result",
          "data": {
            "text/plain": [
              "DeltaGenerator()"
            ]
          },
          "metadata": {},
          "execution_count": 6
        }
      ]
    },
    {
      "cell_type": "code",
      "source": [],
      "metadata": {
        "id": "qLXdgW2NtznT"
      },
      "execution_count": null,
      "outputs": []
    }
  ]
}